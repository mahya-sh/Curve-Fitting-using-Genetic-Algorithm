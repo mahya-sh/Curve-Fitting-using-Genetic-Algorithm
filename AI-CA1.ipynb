{
 "cells": [
  {
   "cell_type": "markdown",
   "id": "c42375b4",
   "metadata": {},
   "source": [
    "# AI - CA1"
   ]
  },
  {
   "cell_type": "markdown",
   "id": "623abcd6",
   "metadata": {},
   "source": [
    "#### Mahya Shahshahani - ID:810199598"
   ]
  },
  {
   "cell_type": "markdown",
   "id": "555721d3",
   "metadata": {},
   "source": [
    "## Curve Fitting using Genetic Algorithm\n",
    "In this copmuter assignment, based on the given points for curve fitting, we have determined the coefficients as a polynomial equation."
   ]
  },
  {
   "cell_type": "markdown",
   "id": "0c42e45b",
   "metadata": {},
   "source": [
    "### Defining Basic Concepts\n",
    "In a genetic algorithm, a solution is represented as a chromosome, which is typically a string of genes. In the context of curve fitting, a chromosome represents a set of parameters for the model we want to fit. Each gene within the chromosome corresponds to a specific parameter."
   ]
  },
  {
   "cell_type": "code",
   "execution_count": 1,
   "id": "fc5f940d-556f-486f-bcf7-195b32e5264b",
   "metadata": {},
   "outputs": [],
   "source": [
    "import numpy as np\n",
    "from matplotlib import pyplot as plt\n",
    "import random"
   ]
  },
  {
   "cell_type": "code",
   "execution_count": 2,
   "id": "626d73b7",
   "metadata": {},
   "outputs": [],
   "source": [
    "class Chromosome:\n",
    "    def __init__(self, degree, coefficient_range):\n",
    "        self.degree = degree\n",
    "        self.coefficient_range = coefficient_range\n",
    "        self.coefficients = []\n",
    "        self.fitness = None\n",
    "\n",
    "        \n",
    "    def initialize(self):\n",
    "        # Initialize the coefficients randomly within the specified range\n",
    "        # Each coefficient represents a parameter value for the polynomial function\n",
    "    \n",
    "        self.coefficients = [random.randint(self.coefficient_range[0], self.coefficient_range[1])\n",
    "                     for _ in range(self.degree + 1)]\n",
    "        \n",
    "        \n",
    "    def evaluate_fitness(self, fitness_function, points):\n",
    "        # Evaluate the fitness of the chromosome using the fitness function\n",
    "        # The fitness function calculates the fitness based on the model parameters and the given points\n",
    "        self.fitness = fitness_function(self.coefficients, points)\n",
    "\n",
    "        ##checked\n",
    "        \n",
    "                \n",
    "    def mutate(self, mutation_rate):\n",
    "        # Mutate the coefficients of the chromosome with a certain probability (mutation_rate)\n",
    "        for i in range(len(self.coefficients)):\n",
    "            if random.random() < mutation_rate:\n",
    "\n",
    "                mutation = random.randint(self.coefficient_range[0], self.coefficient_range[1])\n",
    "                self.coefficients[i] += mutation\n",
    "                \n",
    "                self.coefficients[i] = max(self.coefficients[i], self.coefficient_range[0])\n",
    "                self.coefficients[i] = min(self.coefficients[i], self.coefficient_range[1])\n",
    "   \n",
    "    \n",
    "    def crossover(self, other_chromosome, crossover_rate):\n",
    "    # Perform crossover with another chromosome to create offsprings, it is done with a probability(crossover_rate)\n",
    "\n",
    "        if random.random() < crossover_rate:\n",
    "            crossover_point = random.randint(0, self.degree)\n",
    "            offspring1 = Chromosome(self.degree, self.coefficient_range)\n",
    "            offspring2 = Chromosome(self.degree, self.coefficient_range)\n",
    "            offspring1.coefficients = self.coefficients[:crossover_point] + other_chromosome.coefficients[crossover_point:]\n",
    "            offspring2.coefficients = other_chromosome.coefficients[:crossover_point] + self.coefficients[crossover_point:]\n",
    "\n",
    "            return offspring1, offspring2\n",
    "    \n",
    "        return self, other_chromosome"
   ]
  },
  {
   "cell_type": "markdown",
   "id": "a90dddfa",
   "metadata": {},
   "source": [
    "##  Population\n",
    "A population is a collection of chromosomes. Initially, a population is randomly generated, and each chromosome represents a potential solution to the curve fitting problem."
   ]
  },
  {
   "cell_type": "code",
   "execution_count": 68,
   "id": "3319e2c3",
   "metadata": {},
   "outputs": [],
   "source": [
    "def generate_initial_population(population_size, degree, coefficient_range):\n",
    "    # Generate an initial population of chromosomes with random coefficients\n",
    "    population = []\n",
    "    for _ in range(population_size):\n",
    "        chromosome = Chromosome(degree, coefficient_range)\n",
    "        chromosome.initialize()\n",
    "        population.append(chromosome)\n",
    "    return population"
   ]
  },
  {
   "cell_type": "markdown",
   "id": "89653e13",
   "metadata": {},
   "source": [
    "##  Fitness Function\n",
    "\n",
    "The fitness function determines how near the equation is to the target value.It will return a measure of how well each chromosome (solution) in the population fits the given data points.\n",
    "Using MSE as a fitness function in curve fitting typically involves an optimization process to find the best-fit parameters for a given model.\n",
    "In our case, lower MSE values indicate better fitness, meaning that the chromosome produces predictions closer to the actual target values.\n",
    "\n",
    "$$fitness = MSE = \\frac{\\sum \\limits _{i=1} ^{n} (X_{i} - \\hat{X}_{i})^2}{n}$$\n"
   ]
  },
  {
   "cell_type": "code",
   "execution_count": 69,
   "id": "f96d56cd",
   "metadata": {},
   "outputs": [],
   "source": [
    "def mse_fitness(coefficients, points):\n",
    "    # Calculate the predicted values of the target variable using the polynomial defined by the coefficients\n",
    "    predicted_values = [sum(coefficient * (x ** power) for power, coefficient in enumerate(coefficients))\n",
    "                        for x, _ in points]\n",
    "\n",
    "    mse = sum((predicted - actual) ** 2 for predicted, (_, actual) in zip(predicted_values, points)) / len(points)\n",
    "\n",
    "    return mse"
   ]
  },
  {
   "cell_type": "markdown",
   "id": "f2de7b0a",
   "metadata": {},
   "source": [
    "## Create a new generation and a genetic algorithm\n",
    "\n"
   ]
  },
  {
   "cell_type": "code",
   "execution_count": 88,
   "id": "6f317491",
   "metadata": {},
   "outputs": [],
   "source": [
    "population_size = 100\n",
    "degree = 3\n",
    "coefficient_range = (-10, 10)\n",
    "crossover_rate = 0.8\n",
    "mutation_rate = 0.1\n",
    "points = [(0,1), (1,0), (2, -5), (-1, -8)]\n",
    "num_generations = 100"
   ]
  },
  {
   "cell_type": "code",
   "execution_count": 105,
   "id": "3e8b41eb",
   "metadata": {
    "scrolled": true
   },
   "outputs": [],
   "source": [
    "# Step 1: Generate initial population\n",
    "population = generate_initial_population(population_size, degree, coefficient_range)\n",
    "\n",
    "\n",
    "for generation in range(num_generations):\n",
    "    # Step 2: Calculate fitness\n",
    "    for chromosome in population:\n",
    "        chromosome.evaluate_fitness(mse_fitness, points)\n",
    "        \n",
    "\n",
    "    # Sort the population based on fitness\n",
    "    population.sort(key=lambda x: x.fitness)\n",
    "\n",
    "\n",
    "    # Step 3: Ranked-based selection\n",
    "    population_size = len(population)\n",
    "    population_rank = sorted(range(population_size), key=lambda x: population[x].fitness)\n",
    "    probabilities = [((2 * (population_size - i)) / (population_size * (population_size + 1))) for i in range(population_size)]\n",
    "    cumulative_probabilities = [sum(probabilities[:i + 1]) for i in range(len(population))]\n",
    "    \n",
    "    mating_pool = []\n",
    "    for _ in range(population_size):\n",
    "        rand_num = random.random()\n",
    "        for i, cum_prob in enumerate(cumulative_probabilities):\n",
    "            if rand_num <= cum_prob:\n",
    "                mating_pool.append(population[population_rank[i]])\n",
    "                break\n",
    "\n",
    "    # Step 4: Shuffle the mating pool\n",
    "    random.shuffle(mating_pool)\n",
    "\n",
    "    offspring_chromosomes = []\n",
    "    # Step 5: For each consecutive pair, apply crossover and mutation\n",
    "    for i in range(0, len(mating_pool), 2):\n",
    "        parent1 = mating_pool[i]\n",
    "        parent2 = mating_pool[i + 1]\n",
    "        \n",
    "        offspring1, offspring2 = parent1.crossover(parent2, crossover_rate)\n",
    "\n",
    "        offspring1.mutate(mutation_rate)\n",
    "        offspring2.mutate(mutation_rate)\n",
    "\n",
    "        offspring_chromosomes.extend([offspring1, offspring2])\n",
    "\n",
    "    # Step 6: Replace the whole population with the offsprings made\n",
    "    population = offspring_chromosomes\n",
    "    \n",
    "# Final evaluation of fitness after the last generation\n",
    "    for chromosome in population:\n",
    "        chromosome.evaluate_fitness(mse_fitness, points)\n",
    "\n",
    "    #Sort the final population based on fitness\n",
    "    population.sort(key=lambda x: x.fitness)\n",
    "    \n",
    "    #The best solution\n",
    "    best_solution = population[0]\n",
    "    best_fitness = best_solution.fitness\n",
    "    best_coefficients = best_solution.coefficients\n"
   ]
  },
  {
   "cell_type": "code",
   "execution_count": 106,
   "id": "8422e4de",
   "metadata": {
    "scrolled": true
   },
   "outputs": [
    {
     "name": "stdout",
     "output_type": "stream",
     "text": [
      "Best Solution:\n",
      "Fitness: 0.0\n",
      "Coefficients: [1, 3, -5, 1]\n"
     ]
    }
   ],
   "source": [
    "\n",
    "# Print the best solution\n",
    "print(\"Best Solution:\")\n",
    "print(\"Fitness:\", best_fitness)\n",
    "print(\"Coefficients:\", best_coefficients)"
   ]
  },
  {
   "cell_type": "markdown",
   "id": "545b4a4b",
   "metadata": {},
   "source": [
    "## Plot"
   ]
  },
  {
   "cell_type": "code",
   "execution_count": 107,
   "id": "76c97cf4",
   "metadata": {},
   "outputs": [
    {
     "data": {
      "image/png": "[encoded data removed]",
      "text/plain": [
       "<Figure size 640x480 with 1 Axes>"
      ]
     },
     "metadata": {},
     "output_type": "display_data"
    }
   ],
   "source": [
    "coefficients = best_coefficients\n",
    "x_values = np.linspace(min(x for x, _ in points), max(x for x, _ in points), 100)\n",
    "y_values = np.polyval(coefficients[::-1], x_values)\n",
    "\n",
    "# Plot the original data points\n",
    "plt.scatter([x for x, _ in points], [y for _, y in points], label='Data Points')\n",
    "\n",
    "# Plot the curve\n",
    "plt.plot(x_values, y_values, color='red', label='Curve')\n",
    "\n",
    "plt.xlabel('x')\n",
    "plt.ylabel('y')\n",
    "plt.legend()\n",
    "\n",
    "plt.show()"
   ]
  },
  {
   "cell_type": "markdown",
   "id": "50a55660",
   "metadata": {},
   "source": [
    "# Questions:\n"
   ]
  },
  {
   "cell_type": "markdown",
   "id": "2a88b0e2",
   "metadata": {},
   "source": [
    "1. If the population is small, it may lack the necessary diversity of candidate soloutions and my not find the optimal one. Better solutions may be available.<br>If the population is large, it may cause computational complexity and would be time-consuming. "
   ]
  },
  {
   "cell_type": "markdown",
   "id": "176c9750",
   "metadata": {},
   "source": [
    "2. **Accuracy**: Generally, increasing the population size can improve the accuray of the algorithm cause the exploration will be done in a wider space and will have a potential to discover better-fitting curves.<br> **Speed**: Because of the mentioned reason(wider exploration), the algorithm requires more time to do the fitness evalution, selection, crossover & mutation.\n"
   ]
  },
  {
   "cell_type": "markdown",
   "id": "1d54fd19",
   "metadata": {},
   "source": [
    "3. **Mutation**: It will introduces random changes to the chromosomes, promoting exploration of the solution space.<br> **Crossover**: It involves combining genetic information from parent chromosomes to create offspring. It helps the algorithm's ability to converge faster and more efficiently.<br> **What if we only use one?** <br> Well, they complete each other. Mutation maintains diversity and exploration, while crossover enhances exploitation and convergence. If we just use mutation the algorithm may struggle to converge to optimal solutions. Cause it relies on random changes without using the information shared by the population. If we only apply crossover, the algorithm may converge quickly towards local optima and lack the necessary exploration to escape those optima."
   ]
  },
  {
   "cell_type": "markdown",
   "id": "b17b3a5c",
   "metadata": {},
   "source": [
    "4. I think one if we start with a known good solution and make our initial generation with it, number of generations needed to find optimal will be reduced. Optimizing the crossover and mutation rates can impact the algorithm's performance, too.\n"
   ]
  },
  {
   "cell_type": "markdown",
   "id": "5d28b4b1",
   "metadata": {},
   "source": [
    "5. Even with those strategies mentioned earlier, it is possible for chromosomes to remain unchanged after several iterations. This phenomenon is known as *stagnation* or *premature convergence*. Reasons this might happen:<br>1. **Lack of Sufficient Diversity**: Stagnation can happen if the population lacks diversity, meaning that the individuals are too similar to each other. <br> 2. **Insufficient Exploration**: If the algorithm focuses too heavily on exploitation, it may ignore exploration of other regions of the solution space. <br> 3. **Inappropriate Selection**:Too high or too low selection pressures might cause problems. If the selection pressure is too high, the algorithm may only focus on the fittest individuals, which limits the exploration of different solutions and can lead to getting stuck. If the selection pressure is too low, progress may be slow or nonexistent because the algorithm doesn't prioritize the best individuals enough. \n",
    "<br><br>Finding the right balance is crucial for the algorithm to work effectively and make progress to find the best solution.\n",
    "Restart or Reinitialization or using different Selection Mechanisms might help."
   ]
  },
  {
   "cell_type": "markdown",
   "id": "5df13052",
   "metadata": {},
   "source": [
    "6. Well, in this case we can limit the number of generations, use a threshold for fitness or use a time limit."
   ]
  },
  {
   "cell_type": "markdown",
   "id": "ec2295e4",
   "metadata": {},
   "source": [
    "7. I think because we are doing a the larger search, and the algorithm will have more computational complexity, the time to find right coefficients will increase. It will lead to longer computation times, too. Additionally, Using  higher-degree polynomials will be more flexibale but we should be careful about overfitting."
   ]
  },
  {
   "cell_type": "markdown",
   "id": "0536756f",
   "metadata": {},
   "source": [
    "8. With more data points, the computational time will be increased. And probably the algorithm will take more iterations to converge to an optimal solution. But fewer data points increase the risk of overfitting, while more data points help the algorithm to generalize better.\n"
   ]
  },
  {
   "cell_type": "code",
   "execution_count": null,
   "id": "34a80c4d",
   "metadata": {},
   "outputs": [],
   "source": []
  }
 ],
 "metadata": {
  "kernelspec": {
   "display_name": "Python 3 (ipykernel)",
   "language": "python",
   "name": "python3"
  },
  "language_info": {
   "codemirror_mode": {
    "name": "ipython",
    "version": 3
   },
   "file_extension": ".py",
   "mimetype": "text/x-python",
   "name": "python",
   "nbconvert_exporter": "python",
   "pygments_lexer": "ipython3",
   "version": "3.11.4"
  }
 },
 "nbformat": 4,
 "nbformat_minor": 5
}
